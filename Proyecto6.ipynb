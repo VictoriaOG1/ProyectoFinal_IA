{
  "nbformat": 4,
  "nbformat_minor": 0,
  "metadata": {
    "colab": {
      "provenance": [],
      "authorship_tag": "ABX9TyNbBop1DOPSl9H/o3UuPNGP",
      "include_colab_link": true
    },
    "kernelspec": {
      "name": "python3",
      "display_name": "Python 3"
    },
    "language_info": {
      "name": "python"
    }
  },
  "cells": [
    {
      "cell_type": "markdown",
      "metadata": {
        "id": "view-in-github",
        "colab_type": "text"
      },
      "source": [
        "<a href=\"https://colab.research.google.com/github/VictoriaOG1/ProyectoFinal_IA/blob/main/Proyecto6.ipynb\" target=\"_parent\"><img src=\"https://colab.research.google.com/assets/colab-badge.svg\" alt=\"Open In Colab\"/></a>"
      ]
    },
    {
      "cell_type": "code",
      "execution_count": null,
      "metadata": {
        "id": "UrmkqsMiRCre"
      },
      "outputs": [],
      "source": [
        "import tensorflow as tf\n",
        "import tensorflow_datasets as tf_ds\n",
        "from sklearn.model_selection import KFold\n",
        "import math\n",
        "import numpy as np"
      ]
    },
    {
      "cell_type": "code",
      "source": [
        "#Download the dataset MNIST (numbers) \n",
        "datos, metadatos = tf_ds.load('mnist', as_supervised=True, with_info=True)"
      ],
      "metadata": {
        "id": "d7XaOQzRRP1J"
      },
      "execution_count": null,
      "outputs": []
    },
    {
      "cell_type": "code",
      "source": [
        "#Obtain separate values for tranning and validation\n",
        "train_data, test_data = datos['train'], datos['test']\n",
        "X = np.array(list(map(lambda x: x[0], train_data)))\n",
        "Y = np.array(list(map(lambda x: x[1], train_data)))"
      ],
      "metadata": {
        "id": "WtZjZolFRUuF"
      },
      "execution_count": null,
      "outputs": []
    },
    {
      "cell_type": "code",
      "source": [
        "#Tag the digits as labels \n",
        "names_number = metadatos.features['label'].names"
      ],
      "metadata": {
        "id": "zG4NgMCYpFhP"
      },
      "execution_count": null,
      "outputs": []
    },
    {
      "cell_type": "code",
      "source": [
        "#Normalize function\n",
        "def normalize(images, labels):\n",
        "  images = tf.cast(images, tf.float32)\n",
        "  images /= 255 #Pass RGB to grayscale\n",
        "  return images, labels\n",
        "\n",
        "#Normalize the train and test data with function\n",
        "train_data = train_data.map(normalize)\n",
        "test_data = test_data.map(normalize)\n",
        "\n",
        "#Add to cache\n",
        "train_data = train_data.cache()\n",
        "test_data = test_data.cache()"
      ],
      "metadata": {
        "id": "kSPT8k8RpItd"
      },
      "execution_count": null,
      "outputs": []
    },
    {
      "cell_type": "code",
      "source": [
        "#Show the image of train_data \n",
        "for image, label in train_data.take(1): \n",
        "  image = image.numpy().reshape((28,28)) #Redimension \n",
        "\n",
        "import matplotlib.pyplot as plt\n",
        "\n",
        "#Draw the number\n",
        "plt.figure()\n",
        "plt.imshow(image, cmap='gray')\n",
        "plt.colorbar\n",
        "plt.grid(False)\n",
        "plt.show()"
      ],
      "metadata": {
        "colab": {
          "base_uri": "https://localhost:8080/",
          "height": 265
        },
        "id": "PH2cLwCDpSeZ",
        "outputId": "1316634e-4b5d-499f-8e52-ebb6dec56679"
      },
      "execution_count": null,
      "outputs": [
        {
          "output_type": "display_data",
          "data": {
            "text/plain": [
              "<Figure size 432x288 with 1 Axes>"
            ],
            "image/png": "[encoded data removed]"
          },
          "metadata": {
            "needs_background": "light"
          }
        }
      ]
    },
    {
      "cell_type": "code",
      "source": [
        "#Create model with a function\n",
        "def create_model():\n",
        "  model = tf.keras.Sequential([\n",
        "    tf.keras.layers.Flatten(input_shape=(28,28,1)), \n",
        "    tf.keras.layers.Dense(1024, input_shape=(784,), activation=None),\n",
        "    tf.keras.layers.Dense(1024, activation=tf.nn.sigmoid),\n",
        "    tf.keras.layers.Dense(2048, input_shape=(1024,),activation=None), \n",
        "    tf.keras.layers.Dense(2048, activation=tf.nn.relu),\n",
        "    tf.keras.layers.Dense(10, input_shape=(2048, ),activation=None) \n",
        "  ])\n",
        "  model.compile(\n",
        "      optimizer=tf.keras.optimizers.SGD(0.01),\n",
        "      loss=tf.keras.losses.SparseCategoricalCrossentropy(),\n",
        "      metrics=['accuracy']\n",
        "  )\n",
        "\n",
        "  #Create Model\n",
        "  model = tf.keras.Sequential([\n",
        "    tf.keras.layers.Flatten(input_shape=(28,28,1)), #1 - white and black \n",
        "    tf.keras.layers.Dense(50, activation=tf.nn.relu),\n",
        "    tf.keras.layers.Dense(50, activation=tf.nn.relu),\n",
        "    tf.keras.layers.Dense(10, activation=tf.nn.softmax) #For classification \n",
        "  ])\n",
        "\n",
        "  #Compile Model\n",
        "  model.compile(\n",
        "      optimizer='adam', #Adam's algorithm\n",
        "      loss=tf.keras.losses.SparseCategoricalCrossentropy(),\n",
        "      metrics=['accuracy']\n",
        "  )\n",
        "  return model"
      ],
      "metadata": {
        "id": "sPs-vW3Updxu"
      },
      "execution_count": null,
      "outputs": []
    },
    {
      "cell_type": "code",
      "source": [
        "#Number of data of tranning and validation\n",
        "num_tranning = metadatos.splits[\"train\"].num_examples\n",
        "num_tests = metadatos.splits[\"test\"].num_examples "
      ],
      "metadata": {
        "id": "4ecq9olvx-_M"
      },
      "execution_count": null,
      "outputs": []
    },
    {
      "cell_type": "code",
      "source": [
        "#K fold cross validation \n",
        "k=5\n",
        "training_loss = [0,0,0,0,0] \n",
        "training_accuracy = [0,0,0,0,0] \n",
        "validation_loss = [0,0,0,0,0] \n",
        "validation_accuracy = [0,0,0,0,0]\n",
        "weights =[]\n",
        "\n",
        "for train_index, validation_index in KFold(k).split(X):\n",
        "  #Partition\n",
        "  x_train,x_validation=X[train_index],X[validation_index]\n",
        "  y_train,y_validation=Y[train_index],Y[validation_index]\n",
        "\n",
        "  #Create model\n",
        "  modelo=create_model()\n",
        "  \n",
        "  #Training and validation (loss and accuracy values saved)\n",
        "  training = modelo.fit(x_train, y_train, epochs=5, batch_size=32, validation_data=(x_validation, y_validation))\n",
        "\n",
        "  training_loss = np.array(training_loss) + np.array(training.history[\"loss\"])\n",
        "  training_accuracy = np.array(training_accuracy) + np.array(training.history[\"accuracy\"])\n",
        "  validation_loss = np.array(validation_loss) + np.array(training.history[\"val_loss\"])\n",
        "  validation_accuracy = np.array(validation_accuracy) + np.array(training.history[\"val_accuracy\"])\n",
        "  \n",
        "  modelo.save_weights\n",
        "\n",
        "\n",
        "training_loss = training_loss/5\n",
        "training_accuracy = training_accuracy/5\n",
        "validation_loss = validation_loss/5\n",
        "validation_accuracy = validation_accuracy/5"
      ],
      "metadata": {
        "colab": {
          "base_uri": "https://localhost:8080/"
        },
        "id": "8OC1jG2kyGJp",
        "outputId": "101ba4f3-6012-45c8-eebb-2e9deb562e08"
      },
      "execution_count": null,
      "outputs": [
        {
          "output_type": "stream",
          "name": "stdout",
          "text": [
            "Epoch 1/5\n",
            "1500/1500 [==============================] - 4s 2ms/step - loss: 1.7502 - accuracy: 0.7553 - val_loss: 0.5544 - val_accuracy: 0.8600\n",
            "Epoch 2/5\n",
            "1500/1500 [==============================] - 3s 2ms/step - loss: 0.4633 - accuracy: 0.8841 - val_loss: 0.3756 - val_accuracy: 0.9049\n",
            "Epoch 3/5\n",
            "1500/1500 [==============================] - 3s 2ms/step - loss: 0.3630 - accuracy: 0.9096 - val_loss: 0.3641 - val_accuracy: 0.9124\n",
            "Epoch 4/5\n",
            "1500/1500 [==============================] - 3s 2ms/step - loss: 0.3261 - accuracy: 0.9193 - val_loss: 0.3475 - val_accuracy: 0.9162\n",
            "Epoch 5/5\n",
            "1500/1500 [==============================] - 3s 2ms/step - loss: 0.2926 - accuracy: 0.9255 - val_loss: 0.3812 - val_accuracy: 0.9165\n",
            "Epoch 1/5\n",
            "1500/1500 [==============================] - 4s 2ms/step - loss: 1.7459 - accuracy: 0.7828 - val_loss: 0.5176 - val_accuracy: 0.8767\n",
            "Epoch 2/5\n",
            "1500/1500 [==============================] - 3s 2ms/step - loss: 0.4143 - accuracy: 0.8926 - val_loss: 0.3370 - val_accuracy: 0.9102\n",
            "Epoch 3/5\n",
            "1500/1500 [==============================] - 3s 2ms/step - loss: 0.2915 - accuracy: 0.9212 - val_loss: 0.3094 - val_accuracy: 0.9196\n",
            "Epoch 4/5\n",
            "1500/1500 [==============================] - 3s 2ms/step - loss: 0.2371 - accuracy: 0.9335 - val_loss: 0.2208 - val_accuracy: 0.9398\n",
            "Epoch 5/5\n",
            "1500/1500 [==============================] - 3s 2ms/step - loss: 0.2089 - accuracy: 0.9404 - val_loss: 0.2286 - val_accuracy: 0.9361\n",
            "Epoch 1/5\n",
            "1500/1500 [==============================] - 3s 2ms/step - loss: 1.7818 - accuracy: 0.7752 - val_loss: 0.5740 - val_accuracy: 0.8605\n",
            "Epoch 2/5\n",
            "1500/1500 [==============================] - 3s 2ms/step - loss: 0.4562 - accuracy: 0.8829 - val_loss: 0.4440 - val_accuracy: 0.8885\n",
            "Epoch 3/5\n",
            "1500/1500 [==============================] - 3s 2ms/step - loss: 0.3706 - accuracy: 0.9076 - val_loss: 0.3597 - val_accuracy: 0.9097\n",
            "Epoch 4/5\n",
            "1500/1500 [==============================] - 3s 2ms/step - loss: 0.3295 - accuracy: 0.9170 - val_loss: 0.3852 - val_accuracy: 0.9121\n",
            "Epoch 5/5\n",
            "1500/1500 [==============================] - 3s 2ms/step - loss: 0.2917 - accuracy: 0.9263 - val_loss: 0.3435 - val_accuracy: 0.9242\n",
            "Epoch 1/5\n",
            "1500/1500 [==============================] - 4s 2ms/step - loss: 1.6264 - accuracy: 0.7598 - val_loss: 0.5124 - val_accuracy: 0.8763\n",
            "Epoch 2/5\n",
            "1500/1500 [==============================] - 3s 2ms/step - loss: 0.4477 - accuracy: 0.8851 - val_loss: 0.4335 - val_accuracy: 0.8967\n",
            "Epoch 3/5\n",
            "1500/1500 [==============================] - 3s 2ms/step - loss: 0.3643 - accuracy: 0.9061 - val_loss: 0.3836 - val_accuracy: 0.9058\n",
            "Epoch 4/5\n",
            "1500/1500 [==============================] - 3s 2ms/step - loss: 0.3329 - accuracy: 0.9156 - val_loss: 0.3400 - val_accuracy: 0.9147\n",
            "Epoch 5/5\n",
            "1500/1500 [==============================] - 3s 2ms/step - loss: 0.2995 - accuracy: 0.9241 - val_loss: 0.3587 - val_accuracy: 0.9184\n",
            "Epoch 1/5\n",
            "1500/1500 [==============================] - 3s 2ms/step - loss: 1.6241 - accuracy: 0.7727 - val_loss: 0.5563 - val_accuracy: 0.8492\n",
            "Epoch 2/5\n",
            "1500/1500 [==============================] - 3s 2ms/step - loss: 0.4577 - accuracy: 0.8801 - val_loss: 0.4038 - val_accuracy: 0.8951\n",
            "Epoch 3/5\n",
            "1500/1500 [==============================] - 3s 2ms/step - loss: 0.3823 - accuracy: 0.9028 - val_loss: 0.3409 - val_accuracy: 0.9166\n",
            "Epoch 4/5\n",
            "1500/1500 [==============================] - 3s 2ms/step - loss: 0.3252 - accuracy: 0.9180 - val_loss: 0.3423 - val_accuracy: 0.9197\n",
            "Epoch 5/5\n",
            "1500/1500 [==============================] - 3s 2ms/step - loss: 0.2989 - accuracy: 0.9235 - val_loss: 0.3173 - val_accuracy: 0.9246\n"
          ]
        }
      ]
    },
    {
      "cell_type": "code",
      "source": [
        "#See the loss function of tranning and validation\n",
        "plt.xlabel('# Epoch')\n",
        "plt.ylabel(\"Loss\")\n",
        "plt.plot(training_loss)\n",
        "plt.plot(validation_loss)"
      ],
      "metadata": {
        "colab": {
          "base_uri": "https://localhost:8080/",
          "height": 296
        },
        "id": "HbECBlf85j-q",
        "outputId": "af8e1d5f-0e2c-4727-a443-16c53872f582"
      },
      "execution_count": null,
      "outputs": [
        {
          "output_type": "execute_result",
          "data": {
            "text/plain": [
              "[<matplotlib.lines.Line2D at 0x7f267cd54a00>]"
            ]
          },
          "metadata": {},
          "execution_count": 149
        },
        {
          "output_type": "display_data",
          "data": {
            "text/plain": [
              "<Figure size 432x288 with 1 Axes>"
            ],
            "image/png": "[encoded data removed]"
          },
          "metadata": {
            "needs_background": "light"
          }
        }
      ]
    },
    {
      "cell_type": "code",
      "source": [
        "#See the accuracy function of tranning and validation\n",
        "plt.xlabel('# Epoch')\n",
        "plt.ylabel(\"Accuracy\")\n",
        "plt.plot(training_accuracy)\n",
        "plt.plot(validation_accuracy)"
      ],
      "metadata": {
        "colab": {
          "base_uri": "https://localhost:8080/",
          "height": 296
        },
        "id": "3548-TpP7dmV",
        "outputId": "663743d1-473d-483a-f904-f372497723b7"
      },
      "execution_count": null,
      "outputs": [
        {
          "output_type": "execute_result",
          "data": {
            "text/plain": [
              "[<matplotlib.lines.Line2D at 0x7f26849a2d60>]"
            ]
          },
          "metadata": {},
          "execution_count": 148
        },
        {
          "output_type": "display_data",
          "data": {
            "text/plain": [
              "<Figure size 432x288 with 1 Axes>"
            ],
            "image/png": "[encoded data removed]"
          },
          "metadata": {
            "needs_background": "light"
          }
        }
      ]
    },
    {
      "cell_type": "code",
      "source": [],
      "metadata": {
        "id": "1NPA_4WvgR0e"
      },
      "execution_count": null,
      "outputs": []
    }
  ]
}